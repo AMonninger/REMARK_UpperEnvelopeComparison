{
 "cells": [
  {
   "cell_type": "markdown",
   "id": "natural-dressing",
   "metadata": {},
   "source": [
    "# Example 2: Consumption Saving Problem with a Durable Good\n",
    "\n",
    "We now want to solve a simple model with durable and non-durable consumption. The goal is:\n",
    "1. To show that the savings function is not monotonic\n",
    "2. To show that FUES recovers the optimal points.\n",
    "3. To show that DC-EGM does not work in this case."
   ]
  },
  {
   "cell_type": "markdown",
   "id": "antique-upper",
   "metadata": {},
   "source": [
    "### Set up\n",
    "The agent lives for three periods and receives utility from non-durable consumption $c_t$ and the flow of the durable stock $d_t$. Using a Cobb-Douglas aggregator, the CRRA utility function can be written as:\n",
    "\\begin{align}\n",
    "\tu(c_t, d_t) &= \\frac{(c_t^\\alpha (d_t + \\underline{d})^{1 - \\alpha})^{1 - \\rho}}{1 - \\rho}\n",
    "\\end{align}\n",
    "\n",
    "Each period, the household can decide to \\textit{adjust} the stock of durable goods $n_t$ or \\textit{keep} it unchanged. In case of adjustment, the agent sells all their durable stock which induces a proportional adjustment cost $\\tau \\in (0,1)$. Hence, the cash-on-hand after selling the beginning-of-period stock of durables is: $x_t = m_t + (1 - \\tau)n_t$ which then can be allocated into durables ($d_t$), non-durables ($c_t$) and savings ($a_t$). In case of non-adjustment, the agent keeps the beginning-of-period stock of durables ($n_t = d_t$) and allocates the cash-on-hand ($m_t$) into consumption and savings.\n",
    "\n",
    "Dynamically, saved assets earn an interest rate of $r_t$ and durable stock depreciates each period with rate $\\delta \\in (0,1)$. Hence, the dynamic equations are given by the next-period cash-on-hand $m_{t+1}$ and next period durable stock $n_{t+1}$:\n",
    "\\begin{align}\n",
    "\tm_{t+1} &= Ra_t + y_{t+1}\\\\\n",
    "\tn_{t+1} &= (1 - \\delta)n_t\n",
    "\\end{align}\n",
    "\n",
    "To simplify, there is no uncertainty in the model and income is purely deterministic."
   ]
  },
  {
   "cell_type": "code",
   "execution_count": 1,
   "id": "worse-latvia",
   "metadata": {},
   "outputs": [],
   "source": [
    "from HARK.econforgeinterp import LinearFast\n",
    "from utilities_Durable import construct_grid\n",
    "from HARK.ConsumptionSaving.ConsIndShockModel import utility, utility_inv\n",
    "from HARK.interpolation import LowerEnvelope2D\n",
    "#from DurableModel_Latest_Clean import DurableConsumerType_Latest, construct_grid\n",
    "from utilities_Durable import construct_grid, durable_adjusting_function\n",
    "\n",
    "from FUES import FUES\n",
    "from HARK.dcegm import calc_nondecreasing_segments, upper_envelope, calc_cross_points\n",
    "\n",
    "import numpy as np\n",
    "import scipy as sp\n",
    "from scipy.optimize import fsolve\n",
    "import matplotlib.pyplot as plt\n",
    "from matplotlib import cm"
   ]
  },
  {
   "cell_type": "code",
   "execution_count": 2,
   "id": "flexible-summary",
   "metadata": {},
   "outputs": [],
   "source": [
    "alpha = 0.5\n",
    "adjC = 0.15\n",
    "tau = adjC\n",
    "DiscFac = 0.965\n",
    "Rfree = 1/0.965\n",
    "d_ubar = 0.001\n",
    "CRRA = 2\n",
    "dDepr = 0.4\n",
    "\n",
    "# For grids\n",
    "nNrmMin = 0\n",
    "nNrmMax = 5\n",
    "nNrmCount = 200\n",
    "mNrmMin = 0\n",
    "mNrmMax = 15\n",
    "mNrmCount = 100\n",
    "aNrmMin = 0.001\n",
    "aNrmMax = 20\n",
    "aNrmCount = 100\n",
    "grid_type = 'exp_mult'\n",
    "NestFac = 3\n",
    "\n",
    "BoroCnstNat = 0\n",
    "BoroCnstdNrm = 0\n",
    "tol = 1e-8"
   ]
  },
  {
   "cell_type": "code",
   "execution_count": 3,
   "id": "curious-neighbor",
   "metadata": {},
   "outputs": [],
   "source": [
    "# 1. Update utility functions:\n",
    "# i. U(C,D)\n",
    "u_inner = lambda C, D, d_ubar, alpha: C ** alpha * (D + d_ubar) ** (1 - alpha)\n",
    "CRRAutility = lambda C, D: utility(u_inner(C, D, d_ubar, alpha), CRRA)\n",
    "\n",
    "# ii. Inverse U(C, D) # Needed for inverse value funtion\n",
    "CRRAutility_inv = lambda C, D: utility_inv(CRRAutility(C, D), CRRA)\n",
    "\n",
    "# iii. uPC U(C,D) wrt C # Needed for marginal value function\n",
    "CRRAutilityP = lambda C, D: ((alpha * C ** (alpha * (1 - CRRA) - 1)) * (D + d_ubar) ** ((1 - alpha) * (1 - CRRA)))\n",
    "\n",
    "# iv. Inverse uPC U(C,D) wrt C # Needed for EGM\n",
    "CRRAutilityP_inv = lambda C, D: (\n",
    "            (C / (alpha * (D + d_ubar) ** ((1 - alpha) * (1 - CRRA)))) ** (1 / (alpha * (1 - CRRA) - 1)))\n",
    "\n",
    "\n",
    "# 2. Create Grids\n",
    "# a) Exogeneous a-Grid\n",
    "aNrmGrid = construct_grid(aNrmMin, aNrmMax, aNrmCount, grid_type, NestFac)\n",
    "aNrmGrid = np.append(0, aNrmGrid)\n",
    "\n",
    "# b) Exogeneous n-Grid\n",
    "nNrmGrid = construct_grid(nNrmMin, nNrmMax, nNrmCount, grid_type, NestFac)\n",
    "\n",
    "# c) Exogenous m-Grid (use for final period and to get adjuster function)\n",
    "mNrmGrid = construct_grid(mNrmMin, mNrmMax, mNrmCount, grid_type, NestFac)\n"
   ]
  },
  {
   "cell_type": "markdown",
   "id": "vital-reward",
   "metadata": {},
   "source": [
    "### Period T\n",
    "In the last period, the agent wants to consume all their wealth meaning $a^*=0$ and $v_{t+1} = 0$. Therefore, the keeper problem boils down to the simple solution:\n",
    "\\begin{align}\n",
    "\td^* = n\\\\\n",
    "\tc^* = m\n",
    "\\end{align}\n",
    "Where the first part is the usual result, as the keeper can not adjust the durable stock and the latter comes from the budget constraint.\n",
    "\n",
    "The adjuster problem reduces to:\n",
    "\\begin{align}\n",
    "\t\\mathscr{L} &= u(c,d) + \\lambda(x - c - d)\\\\\n",
    "\t\\frac{\\partial \\mathscr{L}}{\\partial c} &= u^{'}(c) = \\lambda\\\\\n",
    "\t\\frac{\\partial \\mathscr{L}}{\\partial d} &= u^{'}(d) = \\lambda\\\\\n",
    "\\end{align}\n",
    "Setting both first order conditions equal results in\n",
    "\\begin{align}\n",
    "\tu^{'}(c) &= u^{'}(d)\\\\\n",
    "\t\\frac{\\alpha (c^\\alpha d^{1 - \\alpha})^{1 - \\rho}}{c} &= \t\\frac{(1 - \\alpha) (c^\\alpha d^{1 - \\alpha})^{1 - \\rho}}{d}\\\\\n",
    "\tc &= d \\Big(\\frac{\\alpha}{1 - \\alpha}\\Big)\n",
    "\\end{align}\n",
    "Plugging this into the BC:\n",
    "\\begin{align}\n",
    "\tx &= c + d = d\\Big(\\frac{1}{1 - \\alpha}\\Big)\\\\\n",
    "\t\\implies d^* &= (1 - \\alpha) x\\\\\n",
    "\t\\implies c^* &= \\alpha x\n",
    "\\end{align}\n",
    "\n",
    "Additionally, we can solve for the optimal (S,s) bands, eg the bands which divide the nNrmGrid times mNrmGrid plane into an adjuster, keeper, and adjuster region. We need to solve for the up to two points where the utility of the keeper solution is the same as of the adjuster.\n",
    "\\begin{align}\n",
    "\tu(adjuster) &= u(keeper)\\\\\n",
    "\tu(\\alpha x, (1 - \\alpha) x) &= u(m, n)\\\\\n",
    "\t\\Bigg(\\frac{(\\alpha x)^\\alpha \\Big((1 - \\alpha)x \\Big)^{1 - \\alpha}}{1 - \\rho}\\Bigg)^{1 - \\alpha} &= \\Bigg(\\frac{m^\\alpha n^{1 - \\alpha}}{1 - \\rho}\\Bigg)^{1 - \\alpha}\\\\\n",
    "\t(\\alpha x)^\\alpha \\Big((1 - \\alpha)x \\Big)^{1 - \\alpha} &= m^\\alpha n^{1 - \\alpha}\\\\\n",
    "\t(\\alpha [m + (1 - \\tau)n])^\\alpha \\Big((1 - \\alpha)[m + (1 - \\tau)n] \\Big)^{1 - \\alpha} &= m^\\alpha n^{1 - \\alpha}\t\n",
    "\\end{align}\n",
    "\n",
    "This problem can be solved for each value of $n$ with a root-finder to get the two points for $m$ in which the utility functions cross."
   ]
  },
  {
   "cell_type": "code",
   "execution_count": 4,
   "id": "occasional-parallel",
   "metadata": {},
   "outputs": [
    {
     "name": "stderr",
     "output_type": "stream",
     "text": [
      "C:\\Users\\adria\\anaconda3\\envs\\Durable\\lib\\site-packages\\HARK\\utilities.py:142: RuntimeWarning: divide by zero encountered in reciprocal\n",
      "  return c ** (1.0 - gam) / (1.0 - gam)\n"
     ]
    }
   ],
   "source": [
    "## Step 1: Terminal Period Marginal Value Function\n",
    "### Keeper\n",
    "cFuncKeep_terminal = LinearFast(np.array([[0.0, 1.0],[0.0, 1.0]]), [np.array([0.0,1.0]), np.array([0.0,1.0])])\n",
    "dFuncKeep_terminal = LinearFast(np.array([[0.0, 1.0],[0.0,1.0]]), [np.array([0.0,1.0]), np.array([0.0,1.0])])\n",
    "exFuncKeep_terminal = LinearFast(np.array([[0.0, 2.0],[0.0, 2.0]]), [np.array([0.0,1.0]), np.array([0.0,1.0])])\n",
    "\n",
    "keep_shape = (len(nNrmGrid),len(mNrmGrid))\n",
    "\n",
    "# # Value and marginal value Functions\n",
    "# # i) empty container\n",
    "inv_vFuncKeep_terminal_array = np.zeros(keep_shape)\n",
    "# # ii) fill arrays\n",
    "for i_m in range(len(mNrmGrid)):\n",
    "    if mNrmGrid[i_m] == 0:  # forced c = 0\n",
    "        inv_vFuncKeep_terminal_array[:, i_m] = 0\n",
    "        continue\n",
    "    m_aux = np.ones(len(nNrmGrid)) * mNrmGrid[i_m]\n",
    "    inv_vFuncKeep_terminal_array[:,i_m] = CRRAutility_inv(m_aux, nNrmGrid)\n",
    "\n",
    "# iii) Make Functions\n",
    "inv_vFuncKeep_terminal = LinearFast(inv_vFuncKeep_terminal_array, [nNrmGrid, mNrmGrid])\n",
    "\n",
    "### Adjuster problem: Calculate optimal share of durables which is c = alpha*xNrmGrid; d = (1-alpha)*xNrmGrid\n",
    "cFuncAdj_terminal = LinearFast(np.array([[0.0, 0.5],[0.0, 0.5]]), [np.array([0.0,1.0]), np.array([0.0,1.0])])\n",
    "dFuncAdj_terminal = LinearFast(np.array([[0.0, 0.5],[0.0,0.5]]), [np.array([0.0,1.0]), np.array([0.0,1.0])])\n",
    "exFuncAdj_terminal = LinearFast(np.array([[0.0, 1.0],[0.0, 1.0]]), [np.array([0.0,1.0]), np.array([0.0,1.0])])\n",
    "\n",
    "### Create inverse value Function (needed for End-of-Period Marginal Value Function)\n",
    "keep_shape = (len(nNrmGrid),len(mNrmGrid))\n",
    "inv_vFuncAdj_terminal_array = np.zeros(keep_shape)\n",
    "\n",
    "for i_d in range(len(nNrmGrid)):\n",
    "    x = mNrmGrid #+ (1 - adjC) * nNrmGrid[i_d]\n",
    "    inv_vFuncAdj_terminal_array[i_d] = CRRAutility_inv(alpha * x, (1 - alpha) * x)\n",
    "    \n",
    "# Create Functions\n",
    "inv_vFuncAdj_terminal = LinearFast(inv_vFuncAdj_terminal_array, [nNrmGrid, mNrmGrid])\n",
    "\n",
    "### Create Solution Function\n",
    "# The solution to an S,s model is adjust - keep - adjust.\n",
    "# Here, we get the upper and lower bound of the keeper region\n",
    "# Adjuster for index <= lS\n",
    "# Adjuster for ls > index < uS\n",
    "def f(m):\n",
    "    return (alpha * (m + (1 - tau) * n)) ** alpha * ((1 - alpha) * (m + (1 - tau) * n)) ** (1 - alpha) - m ** alpha * n ** (1 - alpha)\n",
    "\n",
    "solution_shape = (len(nNrmGrid), 2)\n",
    "lSuS_array = np.zeros(solution_shape)\n",
    "for i_n in range(len(nNrmGrid)):\n",
    "    if i_n == 0:\n",
    "        lSuS_array[0] = [0.0, 0.0]\n",
    "    else:\n",
    "        n = nNrmGrid[i_n]\n",
    "        lSuS_array[i_n] = fsolve(f, [lSuS_array[i_n-1,0], lSuS_array[i_n-1,1]+1])\n",
    "\n",
    "mNrmGrid_Total = lSuS_array.reshape((len(nNrmGrid) * 2, 1))\n",
    "mNrmGrid_Total = np.sort(np.unique(mNrmGrid_Total))\n",
    "# Add a grid point. Maximum grid point of self.mNrmGrid_Total is where upper bound starts.\n",
    "# To add adjuster region at the top, add this grid point\n",
    "mNrmGrid_Total = np.append(mNrmGrid_Total, np.max(mNrmGrid_Total) + 1)\n",
    "            \n",
    "                    \n",
    "solution_shape = (len(nNrmGrid), len(mNrmGrid_Total))\n",
    "cFunc_array = np.zeros(solution_shape)\n",
    "dFunc_array = np.zeros(solution_shape)\n",
    "inv_vFunc_array = np.zeros(solution_shape)\n",
    "adjusting_array = np.ones(solution_shape)\n",
    "\n",
    "for i_d in range(len(nNrmGrid)):\n",
    "    lS_idx = np.where(mNrmGrid_Total == lSuS_array[i_d][0])[0][0]\n",
    "    uS_idx = np.where(mNrmGrid_Total == lSuS_array[i_d][1])[0][0]\n",
    "    length = np.max([0, uS_idx - lS_idx - 1])\n",
    "    d_aux = np.ones(len(mNrmGrid_Total)) * nNrmGrid[i_d]\n",
    "    x_aux = mNrmGrid_Total + (1 - adjC)*d_aux\n",
    "\n",
    "    cFunc_array[i_d] = alpha * x_aux\n",
    "    cFunc_array[i_d][lS_idx + 1: uS_idx] = mNrmGrid_Total[lS_idx + 1: uS_idx]\n",
    "\n",
    "    dFunc_array[i_d] = (1 - alpha) * x_aux\n",
    "    dFunc_array[i_d][lS_idx + 1: uS_idx] = d_aux[lS_idx + 1: uS_idx]\n",
    "\n",
    "    inv_vFunc_array[i_d] = CRRAutility_inv(alpha * x_aux, (1 - alpha) * x_aux) #inv_vFuncAdj_terminal(d_aux[:lS_idx], mNrmGrid_Total[:lS_idx])\n",
    "    inv_vFunc_array[i_d][lS_idx + 1: uS_idx] = CRRAutility_inv(mNrmGrid_Total[lS_idx + 1: uS_idx], d_aux[lS_idx + 1: uS_idx]) #inv_vFuncKeep_terminal(d_aux[lS_idx: uS_idx], mNrmGrid_Total[lS_idx: uS_idx])\n",
    "\n",
    "    adjusting_array[i_d, lS_idx + 1:uS_idx] = np.zeros(length)\n",
    "\n",
    "exFunc_array = cFunc_array + dFunc_array\n",
    "\n",
    "cFunc_terminal = LinearFast(cFunc_array, [nNrmGrid, mNrmGrid_Total])\n",
    "dFunc_terminal = LinearFast(dFunc_array, [nNrmGrid, mNrmGrid_Total])\n",
    "exFunc_terminal = LinearFast(exFunc_array, [nNrmGrid, mNrmGrid_Total])\n",
    "inv_vFunc_terminal = LinearFast(inv_vFunc_array, [nNrmGrid, mNrmGrid_Total])\n",
    "# self.vFunc_terminal = ValueFuncCRRA(self.cFunc_terminal, self.CRRA)\n",
    "adjusting_terminal = LinearFast(adjusting_array, [nNrmGrid, mNrmGrid_Total])\n"
   ]
  },
  {
   "cell_type": "markdown",
   "id": "physical-incident",
   "metadata": {},
   "source": [
    "### Period T-1: Keeper"
   ]
  },
  {
   "cell_type": "code",
   "execution_count": 5,
   "id": "intellectual-bulgaria",
   "metadata": {},
   "outputs": [],
   "source": [
    "inv_vFunc_next = inv_vFunc_terminal\n",
    "cFuncNext = cFunc_terminal\n",
    "dFuncNext = dFunc_terminal\n",
    "PermShkValsNext = 1\n",
    "TranShkValsNext = 0"
   ]
  },
  {
   "cell_type": "code",
   "execution_count": 6,
   "id": "objective-australian",
   "metadata": {},
   "outputs": [
    {
     "name": "stderr",
     "output_type": "stream",
     "text": [
      "<ipython-input-3-8113d7a2867d>:10: RuntimeWarning: divide by zero encountered in power\n",
      "  CRRAutilityP = lambda C, D: ((alpha * C ** (alpha * (1 - CRRA) - 1)) * (D + d_ubar) ** ((1 - alpha) * (1 - CRRA)))\n",
      "C:\\Users\\adria\\anaconda3\\envs\\Durable\\lib\\site-packages\\HARK\\utilities.py:329: RuntimeWarning: divide by zero encountered in reciprocal\n",
      "  return ((1.0 - gam) * u) ** (1 / (1.0 - gam))\n"
     ]
    }
   ],
   "source": [
    "### i. Initialize w and q\n",
    "post_shape = (len(nNrmGrid), len(aNrmGrid))\n",
    "qFunc_array = np.zeros(post_shape)\n",
    "wFunc_array = np.zeros(post_shape)\n",
    "inv_wFunc_array_shape = (len(nNrmGrid), len(aNrmGrid)+1)\n",
    "inv_wFunc_array = np.zeros(inv_wFunc_array_shape)\n",
    "for i_d in range(len(nNrmGrid)):\n",
    "    n_plus = np.ones(len(aNrmGrid)) * ((1 - dDepr) * nNrmGrid[i_d]) / (PermShkValsNext)\n",
    "    m_plus = Rfree / (PermShkValsNext) * aNrmGrid + TranShkValsNext\n",
    "\n",
    "    # Use total solution. This already incorporates the optimal adjuster/keeper region\n",
    "    inv_vFunc_plus_array = inv_vFunc_next(n_plus, m_plus)\n",
    "    vPFunc_plus_array = CRRAutilityP(cFuncNext(n_plus, m_plus), dFuncNext(n_plus, m_plus))\n",
    "\n",
    "    vFunc_plus_array = utility_inv(inv_vFunc_plus_array, CRRA)\n",
    "\n",
    "    wFunc_array[i_d] += PermShkValsNext ** (1.0 - CRRA) * DiscFac * vFunc_plus_array  # weighted value function\n",
    "    qFunc_array[i_d] += PermShkValsNext ** (-CRRA) * \\\n",
    "                        DiscFac * Rfree * vPFunc_plus_array # weighted post decision function\n",
    "\n",
    "inv_wFunc_array[i_d,1:] = utility_inv(wFunc_array[i_d], CRRA)"
   ]
  },
  {
   "cell_type": "code",
   "execution_count": 7,
   "id": "yellow-screw",
   "metadata": {},
   "outputs": [
    {
     "name": "stderr",
     "output_type": "stream",
     "text": [
      "C:\\Users\\adria\\anaconda3\\envs\\Durable\\lib\\site-packages\\HARK\\utilities.py:142: RuntimeWarning: divide by zero encountered in reciprocal\n",
      "  return c ** (1.0 - gam) / (1.0 - gam)\n"
     ]
    }
   ],
   "source": [
    "### Solving the keepers problem\n",
    "# Empty container to save EGM output:\n",
    "shape = (len(nNrmGrid), len(aNrmGrid))\n",
    "m_egm_array = np.zeros(shape)\n",
    "c_egm_array = np.zeros(shape)\n",
    "v_egm_array = np.zeros(shape)\n",
    "\n",
    "for i_d, d_keep in enumerate(nNrmGrid):\n",
    "    d_keep_aux = np.ones(len(aNrmGrid), dtype=np.float64) * d_keep\n",
    "\n",
    "    # Create qFunc_arra and wFunc_array:\n",
    "    qFuncNow = qFunc_array[i_d]\n",
    "    wFuncNow = wFunc_array[i_d]\n",
    "\n",
    "    # use euler equation\n",
    "    c_egm = CRRAutilityP_inv(qFuncNow, d_keep_aux)\n",
    "    # m_Grid and v_Grid\n",
    "    m_egm = aNrmGrid + c_egm\n",
    "    v_egm = CRRAutility(c_egm, d_keep_aux) + wFuncNow\n",
    "\n",
    "    # Save EGM output to compare Upper Envelope algorithm\n",
    "    c_egm_array[i_d] = c_egm\n",
    "    m_egm_array[i_d] = m_egm\n",
    "    v_egm_array[i_d] = v_egm\n",
    "\n",
    "    # # If last point is smaller than the previous:\n",
    "    if c_egm[-1] < c_egm[-2]:\n",
    "        print(\"Kink at last point: Increase aNrmGrid\")\n",
    "\n",
    "#return c_egm_array, m_egm_array, v_egm_array\n"
   ]
  },
  {
   "cell_type": "code",
   "execution_count": 78,
   "id": "infinite-dublin",
   "metadata": {},
   "outputs": [
    {
     "name": "stderr",
     "output_type": "stream",
     "text": [
      "<ipython-input-3-8113d7a2867d>:14: RuntimeWarning: divide by zero encountered in power\n",
      "  (C / (alpha * (D + d_ubar) ** ((1 - alpha) * (1 - CRRA)))) ** (1 / (alpha * (1 - CRRA) - 1)))\n"
     ]
    }
   ],
   "source": [
    "# Solving With FUES\n",
    "# Create empty container\n",
    "mNrmGrid_array = []\n",
    "mNrmGridList = []\n",
    "cFuncKeepList = []\n",
    "inv_vFuncKeepList = []\n",
    "inv_vPFuncKeepList = []\n",
    "for i_d in range(len(nNrmGrid)):\n",
    "    ### FUES PART STARTS HERE\n",
    "    m_FUES, v_FUES, c_FUES, a_FUES, dela \\\n",
    "        = FUES(m_egm_array[i_d], v_egm_array[i_d], c_egm_array[i_d], aNrmGrid) #, M_bar=2, LB=10)\n",
    "    ### FUES PART ENDS HERE\n",
    "    \n",
    "    if not i_d == 0:\n",
    "        c_FUES = np.insert(c_FUES, 0, 0.0, axis=-1)\n",
    "        m_FUES = np.insert(m_FUES, 0, BoroCnstNat, axis=-1)\n",
    "        v_FUES = np.insert(v_FUES, 0, -np.inf, axis=-1)\n",
    "\n",
    "    d_FUES = np.ones_like(c_FUES) * nNrmGrid[i_d]\n",
    "    inv_vPFuncKeep = CRRAutilityP_inv(c_FUES, d_FUES)\n",
    "    # Create cFuncs and vFuncs for each i_d given the correct mGrid\n",
    "    cFuncKeepList.append(LinearFast(c_FUES, [m_FUES]))\n",
    "    inv_vFuncKeepList.append(LinearFast(v_FUES, [m_FUES]))\n",
    "    # vFuncKeepList.append(ValueFuncCRRA(LinearFast(inv_v_for_interpolation, [m_for_interpolation]),CRRA))\n",
    "    inv_vPFuncKeepList.append(LinearFast(inv_vPFuncKeep, [\n",
    "        m_FUES]))  # MargValueFuncCRRA(LinearFast(c_for_interpolation, [m_for_interpolation]), CRRA))\n",
    "    mNrmGrid_array = np.append(mNrmGrid_array, m_FUES)    "
   ]
  },
  {
   "cell_type": "code",
   "execution_count": 79,
   "id": "laughing-disposal",
   "metadata": {},
   "outputs": [],
   "source": [
    "# Option 3: Add everything\n",
    "mNrmGrid_New = np.unique(mNrmGrid_array)\n",
    "# mNrmGrid_New = np.clip(mNrmGrid_New, BoroCnstNat, np.max(aNrmGrid)) # does not make a difference\n",
    "mNrmGrid_New = np.unique(mNrmGrid_New)\n",
    "mNrmGrid_New.sort()\n",
    "\n",
    "# Create c and vFunc\n",
    "# Create empty container\n",
    "keep_shape = (len(nNrmGrid), len(mNrmGrid_New))\n",
    "cFuncKeep_array = np.zeros(keep_shape)\n",
    "dFuncKeep_array = np.zeros(keep_shape)\n",
    "inv_vFuncKeep_array = np.zeros(keep_shape)\n",
    "inv_vPFuncKeep_array = np.zeros(keep_shape)\n",
    "\n",
    "for i_d in range(len(nNrmGrid)):\n",
    "    dFuncKeep_array[i_d] = np.ones(len(mNrmGrid_New)) * nNrmGrid[i_d]\n",
    "    cFuncKeep_array[i_d] = cFuncKeepList[i_d](mNrmGrid_New)\n",
    "    inv_vFuncKeep_array[i_d] = inv_vFuncKeepList[i_d](mNrmGrid_New)\n",
    "    inv_vPFuncKeep_array[i_d] = inv_vPFuncKeepList[i_d](\n",
    "        mNrmGrid_New)\n",
    "        \n",
    "### Create Functions\n",
    "exFuncKeep_array = cFuncKeep_array + dFuncKeep_array\n",
    "cFuncKeep = LinearFast(cFuncKeep_array, [nNrmGrid, mNrmGrid_New])\n",
    "dFuncKeep = LinearFast(dFuncKeep_array, [nNrmGrid, mNrmGrid_New])\n",
    "exFuncKeep = LinearFast(exFuncKeep_array, [nNrmGrid, mNrmGrid_New])\n",
    "inv_vPFuncKeep = LinearFast(inv_vPFuncKeep_array, [nNrmGrid, mNrmGrid_New])\n",
    "inv_vFuncKeep = LinearFast(inv_vFuncKeep_array, [nNrmGrid, mNrmGrid_New])\n",
    "#vFuncKeepUnc = ValueFuncCRRA(inv_vFuncKeepUnc, CRRA)"
   ]
  },
  {
   "cell_type": "code",
   "execution_count": 70,
   "id": "amino-joyce",
   "metadata": {},
   "outputs": [
    {
     "name": "stderr",
     "output_type": "stream",
     "text": [
      "<ipython-input-70-3704b95c94c9>:18: RuntimeWarning: divide by zero encountered in log\n",
      "  vUntransf = lambda x: np.log(x)\n",
      "<ipython-input-3-8113d7a2867d>:14: RuntimeWarning: divide by zero encountered in power\n",
      "  (C / (alpha * (D + d_ubar) ** ((1 - alpha) * (1 - CRRA)))) ** (1 / (alpha * (1 - CRRA) - 1)))\n"
     ]
    }
   ],
   "source": [
    "### Solving with DC-EGM\n",
    "# Create empty container\n",
    "mNrmGrid_array = []\n",
    "cFuncKeepList = []\n",
    "inv_vFuncKeepList = []\n",
    "inv_vPFuncKeepList = []\n",
    "\n",
    "for i_d in range(len(nNrmGrid)):\n",
    "    c_egm = c_egm_array[i_d]\n",
    "    m_egm = m_egm_array[i_d]\n",
    "    v_egm = v_egm_array[i_d]\n",
    "\n",
    "    d_keep = nNrmGrid[i_d]\n",
    "    d_keep_aux = np.ones(len(aNrmGrid)) * d_keep\n",
    "\n",
    "    # Transformations for value funtion interpolation\n",
    "    vTransf = lambda x: np.exp(x)\n",
    "    vUntransf = lambda x: np.log(x)\n",
    "\n",
    "    vt_egm = vTransf(v_egm)\n",
    "\n",
    "    # b) Compute non-decreasing segments\n",
    "    start, end = calc_nondecreasing_segments(m_egm, vt_egm)\n",
    "\n",
    "    # c) Get segments\n",
    "    segments = []\n",
    "    m_segments = []\n",
    "    vt_segments = []\n",
    "    c_segments = []\n",
    "\n",
    "    for j in range(len(start)):\n",
    "        idx = range(start[j], end[j] + 1)\n",
    "        segments.append([m_egm[idx], vt_egm[idx]])\n",
    "        m_segments.append(m_egm[idx])\n",
    "        vt_segments.append((vt_egm[idx]))\n",
    "        c_segments.append(c_egm[idx])\n",
    "\n",
    "    # d) Upper envelope\n",
    "    m_upper, v_upper, inds_upper = upper_envelope(segments)\n",
    "\n",
    "    # e) Envelope Consumption\n",
    "    c_env = np.zeros_like(m_upper) + np.nan\n",
    "\n",
    "    for k, c_segm in enumerate(c_segments):\n",
    "        c_env[inds_upper == k] = LinearFast(c_segm, [m_segments[k]])(m_upper[inds_upper == k])\n",
    "\n",
    "    v_env = vUntransf(v_upper)\n",
    "\n",
    "    # v_env can get -inf if v_egm is too large negative. Replace it with v_egm value. Note that for d_aux = 0 all values are -inf.\n",
    "    if v_env[0] == -np.inf and v_env[1] != -np.inf:\n",
    "        v_env[0] = v_egm[0]\n",
    "\n",
    "    inv_v_env = utility_inv(v_env, CRRA)\n",
    "\n",
    "    c_for_interpolation = c_env\n",
    "    m_for_interpolation = m_upper\n",
    "    inv_v_for_interpolation = inv_v_env\n",
    "    if i_d != 0:\n",
    "        c_for_interpolation = np.insert(c_env, 0, 0.0, axis=-1)\n",
    "        m_for_interpolation = np.insert(m_upper, 0, BoroCnstNat, axis=-1)\n",
    "        inv_v_for_interpolation = np.insert(inv_v_env, 0, 0, axis=-1)\n",
    "\n",
    "    d_for_interpolation = np.ones_like(c_for_interpolation) * d_keep\n",
    "    inv_vPFuncKeep_for_interpolation = CRRAutilityP_inv(c_for_interpolation, d_for_interpolation)\n",
    "    # Create cFuncs and vFuncs for each i_d given the correct mGrid\n",
    "    cFuncKeepList.append(LinearFast(c_for_interpolation, [m_for_interpolation]))\n",
    "    inv_vFuncKeepList.append(LinearFast(inv_v_for_interpolation, [m_for_interpolation]))\n",
    "    inv_vPFuncKeepList.append(LinearFast(inv_vPFuncKeep_for_interpolation, [\n",
    "        m_for_interpolation]))  # MargValueFuncCRRA(LinearFast(c_for_interpolation, [m_for_interpolation]), CRRA))\n",
    "    mNrmGrid_array = np.append(mNrmGrid_array, m_for_interpolation)\n",
    "\n",
    "# Overall mNrmGrid\n",
    "mNrmGridKeeper = np.unique(mNrmGrid_array)\n",
    "mNrmGridKeeper = np.unique(mNrmGridKeeper)\n",
    "mNrmGridKeeper.sort()"
   ]
  },
  {
   "cell_type": "code",
   "execution_count": 72,
   "id": "fiscal-length",
   "metadata": {},
   "outputs": [],
   "source": [
    "# Create c and vFunc\n",
    "# Create empty container\n",
    "keep_shape = (len(nNrmGrid), len(mNrmGridKeeper))\n",
    "cFuncKeep_array = np.zeros(keep_shape)\n",
    "dFuncKeep_array = np.zeros(keep_shape)\n",
    "inv_vFuncKeep_array = np.zeros(keep_shape)\n",
    "inv_vPFuncKeep_array = np.zeros(keep_shape)\n",
    "\n",
    "for i_d in range(len(nNrmGrid)):\n",
    "    dFuncKeep_array[i_d] = np.ones(len(mNrmGridKeeper)) * nNrmGrid[i_d]\n",
    "    cFuncKeep_array[i_d] = cFuncKeepList[i_d](mNrmGridKeeper)\n",
    "    inv_vFuncKeep_array[i_d] = inv_vFuncKeepList[i_d](mNrmGridKeeper)\n",
    "    inv_vPFuncKeep_array[i_d] = inv_vPFuncKeepList[i_d](\n",
    "        mNrmGridKeeper)\n",
    "\n",
    "# Create Functions\n",
    "### Create Functions\n",
    "exFuncKeep_array = cFuncKeep_array + dFuncKeep_array\n",
    "cFuncKeep_DCEGM = LinearFast(cFuncKeep_array, [nNrmGrid, mNrmGrid_New])\n",
    "dFuncKeep_DCEGM = LinearFast(dFuncKeep_array, [nNrmGrid, mNrmGrid_New])\n",
    "exFuncKeep_DCEGM = LinearFast(exFuncKeep_array, [nNrmGrid, mNrmGrid_New])\n",
    "inv_vPFuncKeep_DCEGM = LinearFast(inv_vPFuncKeep_array, [nNrmGrid, mNrmGrid_New])\n",
    "inv_vFuncKeep_DCEGM = LinearFast(inv_vFuncKeep_array, [nNrmGrid, mNrmGrid_New])"
   ]
  },
  {
   "cell_type": "code",
   "execution_count": 73,
   "id": "industrial-partition",
   "metadata": {},
   "outputs": [],
   "source": [
    "## Compare functions using DC-EGM and FUES"
   ]
  },
  {
   "cell_type": "code",
   "execution_count": 85,
   "id": "south-restaurant",
   "metadata": {},
   "outputs": [
    {
     "data": {
      "text/plain": [
       "array(0.41379968)"
      ]
     },
     "execution_count": 85,
     "metadata": {},
     "output_type": "execute_result"
    }
   ],
   "source": [
    "cFuncKeep_DCEGM(1.0, 1.0)"
   ]
  },
  {
   "cell_type": "code",
   "execution_count": 86,
   "id": "bright-crawford",
   "metadata": {},
   "outputs": [
    {
     "data": {
      "text/plain": [
       "array(0.46644399)"
      ]
     },
     "execution_count": 86,
     "metadata": {},
     "output_type": "execute_result"
    }
   ],
   "source": [
    "cFuncKeep(1.0, 1.0)"
   ]
  },
  {
   "cell_type": "code",
   "execution_count": 77,
   "id": "clinical-machinery",
   "metadata": {},
   "outputs": [
    {
     "data": {
      "image/png": "[encoded data removed]",
      "text/plain": [
       "<Figure size 640x480 with 1 Axes>"
      ]
     },
     "metadata": {},
     "output_type": "display_data"
    }
   ],
   "source": [
    "d = 0\n",
    "d_aux = np.ones(len(mNrmGrid_New)) * d\n",
    "plt.plot(mNrmGrid_New, cFuncKeep_DCEGM(d_aux, mNrmGrid_New), label = 'DC-EGM')\n",
    "plt.plot(mNrmGrid_New, cFuncKeep(d_aux, mNrmGrid_New), label = 'FUES')\n",
    "plt.legend()\n",
    "plt.show()"
   ]
  },
  {
   "cell_type": "markdown",
   "id": "billion-challenge",
   "metadata": {},
   "source": [
    "### Period T-1: Adjuster\n",
    "Now it gets interesting.\n",
    "\n",
    "Math here:::"
   ]
  },
  {
   "cell_type": "code",
   "execution_count": null,
   "id": "fancy-variation",
   "metadata": {},
   "outputs": [],
   "source": []
  }
 ],
 "metadata": {
  "kernelspec": {
   "display_name": "Python 3",
   "language": "python",
   "name": "python3"
  },
  "language_info": {
   "codemirror_mode": {
    "name": "ipython",
    "version": 3
   },
   "file_extension": ".py",
   "mimetype": "text/x-python",
   "name": "python",
   "nbconvert_exporter": "python",
   "pygments_lexer": "ipython3",
   "version": "3.8.8"
  },
  "widgets": {
   "application/vnd.jupyter.widget-state+json": {
    "state": {},
    "version_major": 2,
    "version_minor": 0
   }
  }
 },
 "nbformat": 4,
 "nbformat_minor": 5
}
